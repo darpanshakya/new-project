{
 "cells": [
  {
   "cell_type": "code",
   "execution_count": 1,
   "metadata": {},
   "outputs": [],
   "source": [
    "import os\n",
    "import cv2\n",
    "import numpy as np"
   ]
  },
  {
   "cell_type": "code",
   "execution_count": 2,
   "metadata": {},
   "outputs": [
    {
     "data": {
      "text/plain": [
       "array([[[ 10,  10,  10],\n",
       "        [  9,   9,   9],\n",
       "        [  7,   7,   7],\n",
       "        ...,\n",
       "        [124, 133, 142],\n",
       "        [119, 128, 137],\n",
       "        [113, 122, 131]],\n",
       "\n",
       "       [[  8,   8,   8],\n",
       "        [  7,   7,   7],\n",
       "        [  5,   5,   5],\n",
       "        ...,\n",
       "        [126, 135, 144],\n",
       "        [122, 131, 140],\n",
       "        [115, 124, 133]],\n",
       "\n",
       "       [[  6,   6,   6],\n",
       "        [  5,   5,   5],\n",
       "        [  4,   4,   4],\n",
       "        ...,\n",
       "        [128, 137, 146],\n",
       "        [124, 133, 142],\n",
       "        [118, 127, 136]],\n",
       "\n",
       "       ...,\n",
       "\n",
       "       [[127, 125, 131],\n",
       "        [147, 145, 151],\n",
       "        [146, 144, 150],\n",
       "        ...,\n",
       "        [ 85,  84,  94],\n",
       "        [ 90,  89,  99],\n",
       "        [ 88,  87,  97]],\n",
       "\n",
       "       [[115, 113, 119],\n",
       "        [143, 141, 147],\n",
       "        [152, 150, 156],\n",
       "        ...,\n",
       "        [ 90,  89,  99],\n",
       "        [ 85,  84,  94],\n",
       "        [ 71,  70,  80]],\n",
       "\n",
       "       [[ 97,  95, 101],\n",
       "        [140, 138, 144],\n",
       "        [161, 159, 165],\n",
       "        ...,\n",
       "        [ 98,  97, 107],\n",
       "        [ 83,  82,  92],\n",
       "        [ 74,  73,  83]]], dtype=uint8)"
      ]
     },
     "execution_count": 2,
     "metadata": {},
     "output_type": "execute_result"
    }
   ],
   "source": [
    "#DRAWING CIRCLE, LINE, RECTANGLE, TEXT\n",
    "image = cv2.imread('/home/yash/Desktop/digvijay/opencv/car.jpg')\n",
    "cv2.line(image, (100,150), (250,300), (0,255,255), 3) # points, color, thickness\n",
    "cv2.rectangle(image, (100,120), (320,30), (255,0,0), -1)  #-1 is used to fill up the circle and positive values will increase thickness\n",
    "cv2.circle(image, (800,200), 75, (255,0,120), 10)\n",
    "cv2.putText(image, 'HEY YOU!', (600,450), cv2.FONT_HERSHEY_SIMPLEX, 2, (255,0,0), 10) #point, text family, font size, color, thickness\n"
   ]
  },
  {
   "cell_type": "code",
   "execution_count": 3,
   "metadata": {},
   "outputs": [
    {
     "ename": "error",
     "evalue": "OpenCV(4.7.0) :-1: error: (-5:Bad argument) in function 'imshow'\n> Overload resolution failed:\n>  - imshow() missing required argument 'mat' (pos 2)\n>  - imshow() missing required argument 'mat' (pos 2)\n>  - imshow() missing required argument 'mat' (pos 2)\n",
     "output_type": "error",
     "traceback": [
      "\u001b[0;31m---------------------------------------------------------------------------\u001b[0m",
      "\u001b[0;31merror\u001b[0m                                     Traceback (most recent call last)",
      "Cell \u001b[0;32mIn[3], line 1\u001b[0m\n\u001b[0;32m----> 1\u001b[0m cv2\u001b[39m.\u001b[39;49mimshow(image)\n",
      "\u001b[0;31merror\u001b[0m: OpenCV(4.7.0) :-1: error: (-5:Bad argument) in function 'imshow'\n> Overload resolution failed:\n>  - imshow() missing required argument 'mat' (pos 2)\n>  - imshow() missing required argument 'mat' (pos 2)\n>  - imshow() missing required argument 'mat' (pos 2)\n"
     ]
    }
   ],
   "source": [
    "cv2.imshow(image)"
   ]
  },
  {
   "cell_type": "code",
   "execution_count": null,
   "metadata": {},
   "outputs": [],
   "source": []
  }
 ],
 "metadata": {
  "kernelspec": {
   "display_name": "Python 3",
   "language": "python",
   "name": "python3"
  },
  "language_info": {
   "codemirror_mode": {
    "name": "ipython",
    "version": 3
   },
   "file_extension": ".py",
   "mimetype": "text/x-python",
   "name": "python",
   "nbconvert_exporter": "python",
   "pygments_lexer": "ipython3",
   "version": "3.10.6"
  },
  "orig_nbformat": 4
 },
 "nbformat": 4,
 "nbformat_minor": 2
}
